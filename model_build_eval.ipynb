{
  "cells": [
    {
      "cell_type": "markdown",
      "source": [
        "\n",
        "# PRECURSOR ACTIVTIES"
      ],
      "metadata": {
        "id": "GhOrwkhYO-0W"
      }
    },
    {
      "cell_type": "markdown",
      "source": [
        "## Step 1: Import modules and read in the dataset about the SNAP variable"
      ],
      "metadata": {
        "id": "ZQP8t8egcTI-"
      }
    },
    {
      "cell_type": "code",
      "source": [
        "# Import the required modules\n",
        "import pandas as pd\n",
        "from pathlib import Path\n",
        "from sklearn.preprocessing import StandardScaler\n",
        "from sklearn.model_selection import train_test_split\n",
        "from sklearn.linear_model import LogisticRegression\n",
        "from sklearn.metrics import confusion_matrix\n",
        "from sklearn.metrics import classification_report\n",
        "from sklearn.model_selection import GridSearchCV, RandomizedSearchCV\n",
        "from sklearn.ensemble import RandomForestClassifier\n",
        "import matplotlib.pyplot as plt\n",
        "from scipy.stats import randint\n",
        "import tensorflow as tf\n",
        "from tensorflow.keras.models import Sequential"
      ],
      "metadata": {
        "id": "dk76rLFwPASc"
      },
      "execution_count": null,
      "outputs": []
    },
    {
      "cell_type": "code",
      "execution_count": null,
      "metadata": {
        "id": "88UhXzpIM-Ku"
      },
      "outputs": [],
      "source": [
        "# If .csv, read the .csv file from the Resources folder into a Pandas DataFrame\n",
        "file_path = Path(\"<add path>\")\n",
        "df_snap_stats = pd.read_csv(file_path)\n",
        "\n",
        "# Review the DataFrame\n",
        "df_snap_stats.head()\n"
      ]
    },
    {
      "cell_type": "markdown",
      "metadata": {
        "id": "03tGl0R3M-Kv"
      },
      "source": [
        "## Step 2: Split the data into X and y and then into testing and training sets."
      ]
    },
    {
      "cell_type": "code",
      "execution_count": null,
      "metadata": {
        "id": "WGgZJkeTM-Kv"
      },
      "outputs": [],
      "source": [
        "# Split the data into X (features) and y (target)\n",
        "# The y variable should focus on the target column\n",
        "y = df_snap_stats['<add target>']\n",
        "\n",
        "# The X variable should include all features except the target\n",
        "X = df_snap_stats.drop(columns=['<add target>'])\n"
      ]
    },
    {
      "cell_type": "code",
      "source": [
        "# Scale X before splitting\n",
        "scaler = StandardScaler()\n",
        "X_scaled = scaler.fit_transform(X)"
      ],
      "metadata": {
        "id": "aVH7EKCogSnj"
      },
      "execution_count": null,
      "outputs": []
    },
    {
      "cell_type": "code",
      "execution_count": null,
      "metadata": {
        "id": "ISJjAxT-M-Kw"
      },
      "outputs": [],
      "source": [
        "# Split into testing and training sets using train_test_split\n",
        "X_train, X_test, y_train, y_test = train_test_split(X_scaled, y, random_state=1, stratify=y)\n"
      ]
    },
    {
      "cell_type": "markdown",
      "source": [
        "# SUPERVISED LEARNING MODELING"
      ],
      "metadata": {
        "id": "1amcLO9-bWyv"
      }
    },
    {
      "cell_type": "markdown",
      "metadata": {
        "id": "5rHi4CNYM-Kw"
      },
      "source": [
        "## Step 1: Fit a logistic regression classifier."
      ]
    },
    {
      "cell_type": "code",
      "execution_count": null,
      "metadata": {
        "id": "s3REfpm5M-Kx"
      },
      "outputs": [],
      "source": [
        "# Declare a logistic regression model.\n",
        "logistic_regression_model = LogisticRegression(solver='lbfgs', random_state=42)\n",
        "\n",
        "# Fit and save the logistic regression model using the training data\n",
        "lr_model = logistic_regression_model.fit(X_train, y_train)\n"
      ]
    },
    {
      "cell_type": "markdown",
      "metadata": {
        "id": "qy-SLuykM-Ky"
      },
      "source": [
        "## Step 2: Create the predicted values for the testing and the training data."
      ]
    },
    {
      "cell_type": "code",
      "execution_count": null,
      "metadata": {
        "id": "_AnN7v-jM-Ky"
      },
      "outputs": [],
      "source": [
        "#Generate training predictions\n",
        "training_predictions = logistic_regression_model.predict(X_train)\n",
        "\n",
        "#Generate testing predictions\n",
        "testing_predictions = logistic_regression_model.predict(X_test)\n"
      ]
    },
    {
      "cell_type": "markdown",
      "metadata": {
        "id": "pEgy7JMbM-Ky"
      },
      "source": [
        "## Step 3: Print a confusion matrix for the training data."
      ]
    },
    {
      "cell_type": "code",
      "execution_count": null,
      "metadata": {
        "id": "w8UU_XhlM-Kz"
      },
      "outputs": [],
      "source": [
        "# Create and save the confusion matrix for the training data\n",
        "training_matrix = confusion_matrix(y_train, training_predictions)\n",
        "\n",
        "# Print the confusion matrix for the training data\n",
        "print(training_matrix)\n"
      ]
    },
    {
      "cell_type": "markdown",
      "metadata": {
        "id": "hRj6iN4TM-K0"
      },
      "source": [
        "## Step 4: Print a confusion matrix for the testing data."
      ]
    },
    {
      "cell_type": "code",
      "execution_count": null,
      "metadata": {
        "id": "VdcYUfxiM-K0"
      },
      "outputs": [],
      "source": [
        "# Create and save the confusion matrix for the testing data\n",
        "test_matrix = confusion_matrix(y_test, testing_predictions)\n",
        "\n",
        "# Print the confusion matrix for the testing data\n",
        "print(test_matrix)\n"
      ]
    },
    {
      "cell_type": "markdown",
      "metadata": {
        "id": "HK47Vk0aM-K0"
      },
      "source": [
        "## Step 5: Print the training and testing classification reports."
      ]
    },
    {
      "cell_type": "code",
      "execution_count": null,
      "metadata": {
        "id": "GUcQU5BgM-K0"
      },
      "outputs": [],
      "source": [
        "# Create and save the training classification report\n",
        "class_labels = [\"<add> [labeled ?]\", \"<add> [labeled ?]\"]\n",
        "\n",
        "# Create and print the training classification report\n",
        "training_report = classification_report(y_train, training_predictions, target_names=class_labels)\n",
        "print(\"Training Classification Report:\\n\", training_report)\n",
        "\n",
        "# Create and print the testing classification report\n",
        "testing_report = classification_report(y_test, testing_predictions, target_names=class_labels)\n",
        "print(\"Testing Classification Report:\\n\", testing_report)\n"
      ]
    },
    {
      "cell_type": "markdown",
      "source": [
        "# HYPERPARAMETER TUNING"
      ],
      "metadata": {
        "id": "wjdx42IIPYTv"
      }
    },
    {
      "cell_type": "markdown",
      "source": [
        "## Step 1: Initiate hyperparametric tuning"
      ],
      "metadata": {
        "id": "-pDwTg2pPpHU"
      }
    },
    {
      "cell_type": "code",
      "source": [
        "# Create a Random Forest classifier\n",
        "rf_model = RandomForestClassifier()\n",
        "\n",
        "# Define the hyperparameter grid\n",
        "param_dist = {\n",
        "    'n_estimators': randint(100, 1000),\n",
        "    'max_depth': randint(5, 20),\n",
        "    'min_samples_split': randint(2, 11)\n",
        "}\n",
        "\n",
        "# Create RandomizedSearchCV object\n",
        "random_search = RandomizedSearchCV(rf_model, param_distributions=param_dist, n_iter=10, cv=5)\n",
        "\n",
        "# Fit the RandomizedSearchCV object to your data\n",
        "random_search.fit(X_train, y_train)\n",
        "\n",
        "# Get the best parameters and estimator\n",
        "best_params = random_search.best_params_\n",
        "best_model = random_search.best_estimator_"
      ],
      "metadata": {
        "id": "v8byliN3OjIT"
      },
      "execution_count": null,
      "outputs": []
    },
    {
      "cell_type": "code",
      "source": [
        "# Print the best parameters\n",
        "print(\"Best parameters:\", best_params)\n",
        "\n",
        "# Use the best model for further predictions or evaluation and print\n",
        "predictions = best_model.predict(X_test)\n",
        "print(\"Predictions:\", predictions)"
      ],
      "metadata": {
        "id": "TAS4loChU7SP"
      },
      "execution_count": null,
      "outputs": []
    },
    {
      "cell_type": "markdown",
      "source": [
        "## Step 2: Evaluate initial model peformance via classification report"
      ],
      "metadata": {
        "id": "L-aGCUifP509"
      }
    },
    {
      "cell_type": "code",
      "source": [
        "# Create, then print classification report\n",
        "testing_report = classification_report(y_test, predictions, target_names=class_labels)\n",
        "print(\"Testing Classification Report:\\n\", testing_report)"
      ],
      "metadata": {
        "id": "NzzqIz-LQu0J"
      },
      "execution_count": null,
      "outputs": []
    },
    {
      "cell_type": "markdown",
      "source": [
        "## Step 3: Evaluate feature importance"
      ],
      "metadata": {
        "id": "VWC2ZHTGdkxl"
      }
    },
    {
      "cell_type": "code",
      "source": [
        "# Generate feature importances and feature names\n",
        "feature_importances = best_model.feature_importances_\n",
        "feature_names = X.columns"
      ],
      "metadata": {
        "id": "tzBPQ6RDdlsq"
      },
      "execution_count": null,
      "outputs": []
    },
    {
      "cell_type": "code",
      "source": [
        "# Create and sort a DataFrame for visualization\n",
        "importance_df = pd.DataFrame({'feature': feature_names, 'importance': feature_importances})\n",
        "importance_df = importance_df.sort_values(by='importance', ascending=False)\n",
        "importance_df.head()"
      ],
      "metadata": {
        "id": "j3SbUOaydmhH"
      },
      "execution_count": null,
      "outputs": []
    },
    {
      "cell_type": "code",
      "source": [
        "# Build plot\n",
        "plt.figure(figsize=(4, 4))\n",
        "plt.barh(importance_df['feature'], importance_df['importance'], color='blue')\n",
        "plt.xlabel('Importance Score')\n",
        "plt.ylabel('Feature Name')\n",
        "plt.title('Feature Importances in Random Forest Model')\n",
        "plt.tight_layout()\n",
        "plt.show()"
      ],
      "metadata": {
        "id": "ID8YFo_2dnD2"
      },
      "execution_count": null,
      "outputs": []
    },
    {
      "cell_type": "markdown",
      "source": [
        "## Step 4: Optional: retune hyperparameters for optimization"
      ],
      "metadata": {
        "id": "E4n-91cIRpr_"
      }
    },
    {
      "cell_type": "code",
      "source": [
        "# OPTIONAL: Define a new hyperparameter grid here if needed"
      ],
      "metadata": {
        "id": "ruh4hj3SVVhz"
      },
      "execution_count": null,
      "outputs": []
    },
    {
      "cell_type": "code",
      "source": [
        "# Create a second Random Forest classifier\n",
        "rf_model_2 = RandomForestClassifier()\n",
        "\n",
        "# Create a second RandomizedSearchCV object with potentially different parameters (optional)\n",
        "random_search_2 = RandomizedSearchCV(rf_model_2, param_distributions=param_dist_2, n_iter=10, cv=5)\n",
        "\n",
        "# Fit the second RandomizedSearchCV object to your data\n",
        "random_search_2.fit(X_train, y_train)\n",
        "\n",
        "# Get the second best parameters and estimator\n",
        "best_params_2 = random_search_2.best_params_\n",
        "best_model_2 = random_search_2.best_estimator_"
      ],
      "metadata": {
        "id": "_phbFnMHSDSx"
      },
      "execution_count": null,
      "outputs": []
    },
    {
      "cell_type": "code",
      "source": [
        "# Print the second best parameters\n",
        "print(\"Second best parameters:\", best_params_2)\n",
        "\n",
        "# Use the second best model for further predictions or evaluation and print\n",
        "predictions_2 = best_model.predict(X_test)\n",
        "print(\"Second Best Model Predictions:\", predictions_2)"
      ],
      "metadata": {
        "id": "mNYarJEWSD9Z"
      },
      "execution_count": null,
      "outputs": []
    },
    {
      "cell_type": "markdown",
      "source": [
        "## Step 4: Evaluate secondary model peformance via classification report"
      ],
      "metadata": {
        "id": "TsiMy5C9S1_r"
      }
    },
    {
      "cell_type": "code",
      "source": [
        "# Run second best model using X_test data\n",
        "predictions_2 = best_model.predict(X_test)"
      ],
      "metadata": {
        "id": "NQqVihDNSFIQ"
      },
      "execution_count": null,
      "outputs": []
    },
    {
      "cell_type": "code",
      "source": [
        "# Create, then print classification report\n",
        "testing_report_2 = classification_report(y_test, predictions_2, target_names=class_labels)\n",
        "print(\"Testing Classification Report\", testing_report_2)"
      ],
      "metadata": {
        "id": "lSfnaK-bS8z-"
      },
      "execution_count": null,
      "outputs": []
    },
    {
      "cell_type": "markdown",
      "source": [
        "# NEURAL NETWORK TESTING"
      ],
      "metadata": {
        "id": "7Q2lqIUAP7rQ"
      }
    },
    {
      "cell_type": "markdown",
      "source": [
        "## Step 1: Compile, Train, and Evaluate the Model"
      ],
      "metadata": {
        "id": "pUEeetJuWLGy"
      }
    },
    {
      "cell_type": "code",
      "source": [
        "# Define the model - deep neural net, i.e., the number of input features and hidden nodes for each layer.\n",
        "# Checking the number of possible input features\n",
        "count_input_features = X_train.shape[1]\n",
        "print(\"Number of input features:\", count_input_features)"
      ],
      "metadata": {
        "id": "CBVPgjFkWYY9",
        "colab": {
          "base_uri": "https://localhost:8080/",
          "height": 193
        },
        "outputId": "50e2b849-1f0e-4ce1-f2ae-277f4ac11485"
      },
      "execution_count": null,
      "outputs": [
        {
          "output_type": "error",
          "ename": "NameError",
          "evalue": "name 'X_train' is not defined",
          "traceback": [
            "\u001b[0;31m---------------------------------------------------------------------------\u001b[0m",
            "\u001b[0;31mNameError\u001b[0m                                 Traceback (most recent call last)",
            "\u001b[0;32m<ipython-input-1-432f1bc5d5fb>\u001b[0m in \u001b[0;36m<cell line: 3>\u001b[0;34m()\u001b[0m\n\u001b[1;32m      1\u001b[0m \u001b[0;31m# Define the model - deep neural net, i.e., the number of input features and hidden nodes for each layer.\u001b[0m\u001b[0;34m\u001b[0m\u001b[0;34m\u001b[0m\u001b[0m\n\u001b[1;32m      2\u001b[0m \u001b[0;31m# Checking the number of possible input features\u001b[0m\u001b[0;34m\u001b[0m\u001b[0;34m\u001b[0m\u001b[0m\n\u001b[0;32m----> 3\u001b[0;31m \u001b[0mcount_input_features\u001b[0m \u001b[0;34m=\u001b[0m \u001b[0mX_train\u001b[0m\u001b[0;34m.\u001b[0m\u001b[0mshape\u001b[0m\u001b[0;34m[\u001b[0m\u001b[0;36m1\u001b[0m\u001b[0;34m]\u001b[0m\u001b[0;34m\u001b[0m\u001b[0;34m\u001b[0m\u001b[0m\n\u001b[0m\u001b[1;32m      4\u001b[0m \u001b[0mprint\u001b[0m\u001b[0;34m(\u001b[0m\u001b[0;34m\"Number of input features:\"\u001b[0m\u001b[0;34m,\u001b[0m \u001b[0mcount_input_features\u001b[0m\u001b[0;34m)\u001b[0m\u001b[0;34m\u001b[0m\u001b[0;34m\u001b[0m\u001b[0m\n",
            "\u001b[0;31mNameError\u001b[0m: name 'X_train' is not defined"
          ]
        }
      ]
    },
    {
      "cell_type": "code",
      "source": [
        "# Configuring layers and nodes\n",
        "snap_model = tf.keras.models.Sequential()\n",
        "\n",
        "# First hidden layer\n",
        "snap_model.add(tf.keras.layers.Dense(units=, activation=\"\", input_dim=count_input_features))\n",
        "\n",
        "# Second hidden layer\n",
        "snap_model.add(tf.keras.layers.Dense(units=, activation=\"\"))\n",
        "\n",
        "# < > hidden layer\n",
        "snap_model.add(tf.keras.layers.Dense(units=, activation=\"\"))\n",
        "\n",
        "# Output layer\n",
        "snap_model.add(tf.keras.layers.Dense(units=1, activation=\"\"))\n",
        "\n",
        "# Check the structure of the model\n",
        "snap_model.summary()"
      ],
      "metadata": {
        "id": "8TFF_LKuXYIp"
      },
      "execution_count": null,
      "outputs": []
    },
    {
      "cell_type": "code",
      "source": [
        "# Compile the model\n",
        "snap_model.compile(loss=\"binary_crossentropy\", optimizer=\"adam\", metrics=[\"accuracy\"])"
      ],
      "metadata": {
        "id": "2raGV5BjYW57"
      },
      "execution_count": null,
      "outputs": []
    },
    {
      "cell_type": "code",
      "source": [
        "# Train the model\n",
        "fit_model = snap_model.fit(X_train, y_train, epochs=)"
      ],
      "metadata": {
        "id": "bTPGVj-4YjRG"
      },
      "execution_count": null,
      "outputs": []
    },
    {
      "cell_type": "code",
      "source": [
        "# Evaluate the model using the test data\n",
        "model_loss, model_accuracy = snap_model.evaluate(X_test, y_test, verbose=2)\n",
        "print(f\"Loss: {model_loss}, Accuracy: {model_accuracy}\")"
      ],
      "metadata": {
        "id": "Z-vP6S6AYwBs"
      },
      "execution_count": null,
      "outputs": []
    },
    {
      "cell_type": "markdown",
      "source": [
        "## Step 2: Export the Model"
      ],
      "metadata": {
        "id": "4fL92q6VWoM1"
      }
    },
    {
      "cell_type": "code",
      "source": [
        "# Export model\n",
        "snap_model.save(\"snap_participation.keras\")"
      ],
      "metadata": {
        "id": "NOB7HHU4ZH58"
      },
      "execution_count": null,
      "outputs": []
    }
  ],
  "metadata": {
    "kernelspec": {
      "display_name": "Python 3 (ipykernel)",
      "language": "python",
      "name": "python3"
    },
    "language_info": {
      "codemirror_mode": {
        "name": "ipython",
        "version": 3
      },
      "file_extension": ".py",
      "mimetype": "text/x-python",
      "name": "python",
      "nbconvert_exporter": "python",
      "pygments_lexer": "ipython3",
      "version": "3.10.14"
    },
    "colab": {
      "provenance": []
    }
  },
  "nbformat": 4,
  "nbformat_minor": 0
}